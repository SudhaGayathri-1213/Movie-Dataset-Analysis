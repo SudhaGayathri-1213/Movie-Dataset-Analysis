{
 "cells": [
  {
   "cell_type": "markdown",
   "id": "a4094674",
   "metadata": {},
   "source": [
    "# Movie Dataset Analysis"
   ]
  },
  {
   "cell_type": "code",
   "execution_count": 1,
   "id": "ff8a982b",
   "metadata": {},
   "outputs": [],
   "source": [
    "import pandas as pd\n",
    "import numpy as np\n",
    "import matplotlib.pyplot as plt\n",
    "import seaborn as sns\n",
    "%matplotlib inline\n",
    "sns.set_style('whitegrid')"
   ]
  },
  {
   "cell_type": "code",
   "execution_count": 2,
   "id": "36ebf798",
   "metadata": {},
   "outputs": [
    {
     "data": {
      "text/html": [
       "<div>\n",
       "<style scoped>\n",
       "    .dataframe tbody tr th:only-of-type {\n",
       "        vertical-align: middle;\n",
       "    }\n",
       "\n",
       "    .dataframe tbody tr th {\n",
       "        vertical-align: top;\n",
       "    }\n",
       "\n",
       "    .dataframe thead th {\n",
       "        text-align: right;\n",
       "    }\n",
       "</style>\n",
       "<table border=\"1\" class=\"dataframe\">\n",
       "  <thead>\n",
       "    <tr style=\"text-align: right;\">\n",
       "      <th></th>\n",
       "      <th>color</th>\n",
       "      <th>director_name</th>\n",
       "      <th>num_critic_for_reviews</th>\n",
       "      <th>duration</th>\n",
       "      <th>director_facebook_likes</th>\n",
       "      <th>actor_3_facebook_likes</th>\n",
       "      <th>actor_2_name</th>\n",
       "      <th>actor_1_facebook_likes</th>\n",
       "      <th>gross</th>\n",
       "      <th>genres</th>\n",
       "      <th>...</th>\n",
       "      <th>num_user_for_reviews</th>\n",
       "      <th>language</th>\n",
       "      <th>country</th>\n",
       "      <th>content_rating</th>\n",
       "      <th>budget</th>\n",
       "      <th>title_year</th>\n",
       "      <th>actor_2_facebook_likes</th>\n",
       "      <th>imdb_score</th>\n",
       "      <th>aspect_ratio</th>\n",
       "      <th>movie_facebook_likes</th>\n",
       "    </tr>\n",
       "  </thead>\n",
       "  <tbody>\n",
       "    <tr>\n",
       "      <th>0</th>\n",
       "      <td>Color</td>\n",
       "      <td>James Cameron</td>\n",
       "      <td>723.0</td>\n",
       "      <td>178.0</td>\n",
       "      <td>0.0</td>\n",
       "      <td>855.0</td>\n",
       "      <td>Joel David Moore</td>\n",
       "      <td>1000.0</td>\n",
       "      <td>760505847.0</td>\n",
       "      <td>Action|Adventure|Fantasy|Sci-Fi</td>\n",
       "      <td>...</td>\n",
       "      <td>3054.0</td>\n",
       "      <td>English</td>\n",
       "      <td>USA</td>\n",
       "      <td>PG-13</td>\n",
       "      <td>237000000.0</td>\n",
       "      <td>2009.0</td>\n",
       "      <td>936.0</td>\n",
       "      <td>7.9</td>\n",
       "      <td>1.78</td>\n",
       "      <td>33000</td>\n",
       "    </tr>\n",
       "    <tr>\n",
       "      <th>1</th>\n",
       "      <td>Color</td>\n",
       "      <td>Gore Verbinski</td>\n",
       "      <td>302.0</td>\n",
       "      <td>169.0</td>\n",
       "      <td>563.0</td>\n",
       "      <td>1000.0</td>\n",
       "      <td>Orlando Bloom</td>\n",
       "      <td>40000.0</td>\n",
       "      <td>309404152.0</td>\n",
       "      <td>Action|Adventure|Fantasy</td>\n",
       "      <td>...</td>\n",
       "      <td>1238.0</td>\n",
       "      <td>English</td>\n",
       "      <td>USA</td>\n",
       "      <td>PG-13</td>\n",
       "      <td>300000000.0</td>\n",
       "      <td>2007.0</td>\n",
       "      <td>5000.0</td>\n",
       "      <td>7.1</td>\n",
       "      <td>2.35</td>\n",
       "      <td>0</td>\n",
       "    </tr>\n",
       "    <tr>\n",
       "      <th>2</th>\n",
       "      <td>Color</td>\n",
       "      <td>Sam Mendes</td>\n",
       "      <td>602.0</td>\n",
       "      <td>148.0</td>\n",
       "      <td>0.0</td>\n",
       "      <td>161.0</td>\n",
       "      <td>Rory Kinnear</td>\n",
       "      <td>11000.0</td>\n",
       "      <td>200074175.0</td>\n",
       "      <td>Action|Adventure|Thriller</td>\n",
       "      <td>...</td>\n",
       "      <td>994.0</td>\n",
       "      <td>English</td>\n",
       "      <td>UK</td>\n",
       "      <td>PG-13</td>\n",
       "      <td>245000000.0</td>\n",
       "      <td>2015.0</td>\n",
       "      <td>393.0</td>\n",
       "      <td>6.8</td>\n",
       "      <td>2.35</td>\n",
       "      <td>85000</td>\n",
       "    </tr>\n",
       "    <tr>\n",
       "      <th>3</th>\n",
       "      <td>Color</td>\n",
       "      <td>Christopher Nolan</td>\n",
       "      <td>813.0</td>\n",
       "      <td>164.0</td>\n",
       "      <td>22000.0</td>\n",
       "      <td>23000.0</td>\n",
       "      <td>Christian Bale</td>\n",
       "      <td>27000.0</td>\n",
       "      <td>448130642.0</td>\n",
       "      <td>Action|Thriller</td>\n",
       "      <td>...</td>\n",
       "      <td>2701.0</td>\n",
       "      <td>English</td>\n",
       "      <td>USA</td>\n",
       "      <td>PG-13</td>\n",
       "      <td>250000000.0</td>\n",
       "      <td>2012.0</td>\n",
       "      <td>23000.0</td>\n",
       "      <td>8.5</td>\n",
       "      <td>2.35</td>\n",
       "      <td>164000</td>\n",
       "    </tr>\n",
       "    <tr>\n",
       "      <th>4</th>\n",
       "      <td>NaN</td>\n",
       "      <td>Doug Walker</td>\n",
       "      <td>NaN</td>\n",
       "      <td>NaN</td>\n",
       "      <td>131.0</td>\n",
       "      <td>NaN</td>\n",
       "      <td>Rob Walker</td>\n",
       "      <td>131.0</td>\n",
       "      <td>NaN</td>\n",
       "      <td>Documentary</td>\n",
       "      <td>...</td>\n",
       "      <td>NaN</td>\n",
       "      <td>NaN</td>\n",
       "      <td>NaN</td>\n",
       "      <td>NaN</td>\n",
       "      <td>NaN</td>\n",
       "      <td>NaN</td>\n",
       "      <td>12.0</td>\n",
       "      <td>7.1</td>\n",
       "      <td>NaN</td>\n",
       "      <td>0</td>\n",
       "    </tr>\n",
       "  </tbody>\n",
       "</table>\n",
       "<p>5 rows × 28 columns</p>\n",
       "</div>"
      ],
      "text/plain": [
       "   color      director_name  num_critic_for_reviews  duration  \\\n",
       "0  Color      James Cameron                   723.0     178.0   \n",
       "1  Color     Gore Verbinski                   302.0     169.0   \n",
       "2  Color         Sam Mendes                   602.0     148.0   \n",
       "3  Color  Christopher Nolan                   813.0     164.0   \n",
       "4    NaN        Doug Walker                     NaN       NaN   \n",
       "\n",
       "   director_facebook_likes  actor_3_facebook_likes      actor_2_name  \\\n",
       "0                      0.0                   855.0  Joel David Moore   \n",
       "1                    563.0                  1000.0     Orlando Bloom   \n",
       "2                      0.0                   161.0      Rory Kinnear   \n",
       "3                  22000.0                 23000.0    Christian Bale   \n",
       "4                    131.0                     NaN        Rob Walker   \n",
       "\n",
       "   actor_1_facebook_likes        gross                           genres  ...  \\\n",
       "0                  1000.0  760505847.0  Action|Adventure|Fantasy|Sci-Fi  ...   \n",
       "1                 40000.0  309404152.0         Action|Adventure|Fantasy  ...   \n",
       "2                 11000.0  200074175.0        Action|Adventure|Thriller  ...   \n",
       "3                 27000.0  448130642.0                  Action|Thriller  ...   \n",
       "4                   131.0          NaN                      Documentary  ...   \n",
       "\n",
       "  num_user_for_reviews language  country  content_rating       budget  \\\n",
       "0               3054.0  English      USA           PG-13  237000000.0   \n",
       "1               1238.0  English      USA           PG-13  300000000.0   \n",
       "2                994.0  English       UK           PG-13  245000000.0   \n",
       "3               2701.0  English      USA           PG-13  250000000.0   \n",
       "4                  NaN      NaN      NaN             NaN          NaN   \n",
       "\n",
       "   title_year actor_2_facebook_likes imdb_score  aspect_ratio  \\\n",
       "0      2009.0                  936.0        7.9          1.78   \n",
       "1      2007.0                 5000.0        7.1          2.35   \n",
       "2      2015.0                  393.0        6.8          2.35   \n",
       "3      2012.0                23000.0        8.5          2.35   \n",
       "4         NaN                   12.0        7.1           NaN   \n",
       "\n",
       "  movie_facebook_likes  \n",
       "0                33000  \n",
       "1                    0  \n",
       "2                85000  \n",
       "3               164000  \n",
       "4                    0  \n",
       "\n",
       "[5 rows x 28 columns]"
      ]
     },
     "execution_count": 2,
     "metadata": {},
     "output_type": "execute_result"
    }
   ],
   "source": [
    "dataset = pd.read_csv('movie_metadata.csv')\n",
    "dataset.head()"
   ]
  },
  {
   "cell_type": "code",
   "execution_count": 3,
   "id": "11de992d",
   "metadata": {},
   "outputs": [
    {
     "data": {
      "text/plain": [
       "Index(['color', 'director_name', 'num_critic_for_reviews', 'duration',\n",
       "       'director_facebook_likes', 'actor_3_facebook_likes', 'actor_2_name',\n",
       "       'actor_1_facebook_likes', 'gross', 'genres', 'actor_1_name',\n",
       "       'movie_title', 'num_voted_users', 'cast_total_facebook_likes',\n",
       "       'actor_3_name', 'facenumber_in_poster', 'plot_keywords',\n",
       "       'movie_imdb_link', 'num_user_for_reviews', 'language', 'country',\n",
       "       'content_rating', 'budget', 'title_year', 'actor_2_facebook_likes',\n",
       "       'imdb_score', 'aspect_ratio', 'movie_facebook_likes'],\n",
       "      dtype='object')"
      ]
     },
     "execution_count": 3,
     "metadata": {},
     "output_type": "execute_result"
    }
   ],
   "source": [
    "dataset.columns"
   ]
  },
  {
   "cell_type": "code",
   "execution_count": 4,
   "id": "d9aea6e9",
   "metadata": {},
   "outputs": [
    {
     "name": "stdout",
     "output_type": "stream",
     "text": [
      "<class 'pandas.core.frame.DataFrame'>\n",
      "RangeIndex: 5043 entries, 0 to 5042\n",
      "Data columns (total 28 columns):\n",
      " #   Column                     Non-Null Count  Dtype  \n",
      "---  ------                     --------------  -----  \n",
      " 0   color                      5024 non-null   object \n",
      " 1   director_name              4939 non-null   object \n",
      " 2   num_critic_for_reviews     4993 non-null   float64\n",
      " 3   duration                   5028 non-null   float64\n",
      " 4   director_facebook_likes    4939 non-null   float64\n",
      " 5   actor_3_facebook_likes     5020 non-null   float64\n",
      " 6   actor_2_name               5030 non-null   object \n",
      " 7   actor_1_facebook_likes     5036 non-null   float64\n",
      " 8   gross                      4159 non-null   float64\n",
      " 9   genres                     5043 non-null   object \n",
      " 10  actor_1_name               5036 non-null   object \n",
      " 11  movie_title                5043 non-null   object \n",
      " 12  num_voted_users            5043 non-null   int64  \n",
      " 13  cast_total_facebook_likes  5043 non-null   int64  \n",
      " 14  actor_3_name               5020 non-null   object \n",
      " 15  facenumber_in_poster       5030 non-null   float64\n",
      " 16  plot_keywords              4890 non-null   object \n",
      " 17  movie_imdb_link            5043 non-null   object \n",
      " 18  num_user_for_reviews       5022 non-null   float64\n",
      " 19  language                   5031 non-null   object \n",
      " 20  country                    5038 non-null   object \n",
      " 21  content_rating             4740 non-null   object \n",
      " 22  budget                     4551 non-null   float64\n",
      " 23  title_year                 4935 non-null   float64\n",
      " 24  actor_2_facebook_likes     5030 non-null   float64\n",
      " 25  imdb_score                 5043 non-null   float64\n",
      " 26  aspect_ratio               4714 non-null   float64\n",
      " 27  movie_facebook_likes       5043 non-null   int64  \n",
      "dtypes: float64(13), int64(3), object(12)\n",
      "memory usage: 1.1+ MB\n"
     ]
    }
   ],
   "source": [
    "dataset.info()"
   ]
  },
  {
   "cell_type": "code",
   "execution_count": 5,
   "id": "2aedf690",
   "metadata": {},
   "outputs": [
    {
     "data": {
      "text/plain": [
       "color                         19\n",
       "director_name                104\n",
       "num_critic_for_reviews        50\n",
       "duration                      15\n",
       "director_facebook_likes      104\n",
       "actor_3_facebook_likes        23\n",
       "actor_2_name                  13\n",
       "actor_1_facebook_likes         7\n",
       "gross                        884\n",
       "genres                         0\n",
       "actor_1_name                   7\n",
       "movie_title                    0\n",
       "num_voted_users                0\n",
       "cast_total_facebook_likes      0\n",
       "actor_3_name                  23\n",
       "facenumber_in_poster          13\n",
       "plot_keywords                153\n",
       "movie_imdb_link                0\n",
       "num_user_for_reviews          21\n",
       "language                      12\n",
       "country                        5\n",
       "content_rating               303\n",
       "budget                       492\n",
       "title_year                   108\n",
       "actor_2_facebook_likes        13\n",
       "imdb_score                     0\n",
       "aspect_ratio                 329\n",
       "movie_facebook_likes           0\n",
       "dtype: int64"
      ]
     },
     "execution_count": 5,
     "metadata": {},
     "output_type": "execute_result"
    }
   ],
   "source": [
    "dataset.isnull().sum()"
   ]
  },
  {
   "cell_type": "code",
   "execution_count": 6,
   "id": "fcaa9c14",
   "metadata": {},
   "outputs": [
    {
     "data": {
      "text/plain": [
       "(5043, 28)"
      ]
     },
     "execution_count": 6,
     "metadata": {},
     "output_type": "execute_result"
    }
   ],
   "source": [
    "dataset.shape"
   ]
  },
  {
   "cell_type": "code",
   "execution_count": 7,
   "id": "ee9e659f",
   "metadata": {},
   "outputs": [
    {
     "data": {
      "text/plain": [
       "(4998, 28)"
      ]
     },
     "execution_count": 7,
     "metadata": {},
     "output_type": "execute_result"
    }
   ],
   "source": [
    "dataset.drop_duplicates(inplace=True)\n",
    "dataset.shape"
   ]
  },
  {
   "cell_type": "code",
   "execution_count": 8,
   "id": "83b3b28c",
   "metadata": {},
   "outputs": [],
   "source": [
    "numerical_cols = [col for col in dataset.columns if dataset[col].dtype != 'object']\n",
    "categorical_cols = [col for col in dataset.columns if dataset[col].dtype == 'object']"
   ]
  },
  {
   "cell_type": "code",
   "execution_count": 12,
   "id": "6c44489a",
   "metadata": {},
   "outputs": [
    {
     "data": {
      "text/html": [
       "<div>\n",
       "<style scoped>\n",
       "    .dataframe tbody tr th:only-of-type {\n",
       "        vertical-align: middle;\n",
       "    }\n",
       "\n",
       "    .dataframe tbody tr th {\n",
       "        vertical-align: top;\n",
       "    }\n",
       "\n",
       "    .dataframe thead th {\n",
       "        text-align: right;\n",
       "    }\n",
       "</style>\n",
       "<table border=\"1\" class=\"dataframe\">\n",
       "  <thead>\n",
       "    <tr style=\"text-align: right;\">\n",
       "      <th></th>\n",
       "      <th>count</th>\n",
       "      <th>mean</th>\n",
       "      <th>std</th>\n",
       "      <th>min</th>\n",
       "      <th>25%</th>\n",
       "      <th>50%</th>\n",
       "      <th>75%</th>\n",
       "      <th>max</th>\n",
       "    </tr>\n",
       "  </thead>\n",
       "  <tbody>\n",
       "    <tr>\n",
       "      <th>num_critic_for_reviews</th>\n",
       "      <td>4949.0</td>\n",
       "      <td>1.398901e+02</td>\n",
       "      <td>1.214776e+02</td>\n",
       "      <td>1.00</td>\n",
       "      <td>50.00</td>\n",
       "      <td>110.00</td>\n",
       "      <td>195.00</td>\n",
       "      <td>8.130000e+02</td>\n",
       "    </tr>\n",
       "    <tr>\n",
       "      <th>duration</th>\n",
       "      <td>4983.0</td>\n",
       "      <td>1.072133e+02</td>\n",
       "      <td>2.524878e+01</td>\n",
       "      <td>7.00</td>\n",
       "      <td>93.00</td>\n",
       "      <td>103.00</td>\n",
       "      <td>118.00</td>\n",
       "      <td>5.110000e+02</td>\n",
       "    </tr>\n",
       "    <tr>\n",
       "      <th>director_facebook_likes</th>\n",
       "      <td>4895.0</td>\n",
       "      <td>6.886791e+02</td>\n",
       "      <td>2.821650e+03</td>\n",
       "      <td>0.00</td>\n",
       "      <td>7.00</td>\n",
       "      <td>49.00</td>\n",
       "      <td>192.00</td>\n",
       "      <td>2.300000e+04</td>\n",
       "    </tr>\n",
       "    <tr>\n",
       "      <th>actor_3_facebook_likes</th>\n",
       "      <td>4975.0</td>\n",
       "      <td>6.399009e+02</td>\n",
       "      <td>1.643298e+03</td>\n",
       "      <td>0.00</td>\n",
       "      <td>133.00</td>\n",
       "      <td>369.00</td>\n",
       "      <td>635.00</td>\n",
       "      <td>2.300000e+04</td>\n",
       "    </tr>\n",
       "    <tr>\n",
       "      <th>actor_1_facebook_likes</th>\n",
       "      <td>4991.0</td>\n",
       "      <td>6.556940e+03</td>\n",
       "      <td>1.506159e+04</td>\n",
       "      <td>0.00</td>\n",
       "      <td>611.50</td>\n",
       "      <td>984.00</td>\n",
       "      <td>11000.00</td>\n",
       "      <td>6.400000e+05</td>\n",
       "    </tr>\n",
       "    <tr>\n",
       "      <th>gross</th>\n",
       "      <td>4124.0</td>\n",
       "      <td>4.832565e+07</td>\n",
       "      <td>6.796483e+07</td>\n",
       "      <td>162.00</td>\n",
       "      <td>5304835.25</td>\n",
       "      <td>25445749.00</td>\n",
       "      <td>62319416.00</td>\n",
       "      <td>7.605058e+08</td>\n",
       "    </tr>\n",
       "    <tr>\n",
       "      <th>num_voted_users</th>\n",
       "      <td>4998.0</td>\n",
       "      <td>8.347020e+04</td>\n",
       "      <td>1.380866e+05</td>\n",
       "      <td>5.00</td>\n",
       "      <td>8560.00</td>\n",
       "      <td>34260.50</td>\n",
       "      <td>96120.75</td>\n",
       "      <td>1.689764e+06</td>\n",
       "    </tr>\n",
       "    <tr>\n",
       "      <th>cast_total_facebook_likes</th>\n",
       "      <td>4998.0</td>\n",
       "      <td>9.676941e+03</td>\n",
       "      <td>1.816540e+04</td>\n",
       "      <td>0.00</td>\n",
       "      <td>1405.50</td>\n",
       "      <td>3085.50</td>\n",
       "      <td>13740.50</td>\n",
       "      <td>6.567300e+05</td>\n",
       "    </tr>\n",
       "    <tr>\n",
       "      <th>facenumber_in_poster</th>\n",
       "      <td>4985.0</td>\n",
       "      <td>1.368907e+00</td>\n",
       "      <td>2.014623e+00</td>\n",
       "      <td>0.00</td>\n",
       "      <td>0.00</td>\n",
       "      <td>1.00</td>\n",
       "      <td>2.00</td>\n",
       "      <td>4.300000e+01</td>\n",
       "    </tr>\n",
       "    <tr>\n",
       "      <th>num_user_for_reviews</th>\n",
       "      <td>4977.0</td>\n",
       "      <td>2.720147e+02</td>\n",
       "      <td>3.777762e+02</td>\n",
       "      <td>1.00</td>\n",
       "      <td>64.00</td>\n",
       "      <td>156.00</td>\n",
       "      <td>324.00</td>\n",
       "      <td>5.060000e+03</td>\n",
       "    </tr>\n",
       "    <tr>\n",
       "      <th>budget</th>\n",
       "      <td>4511.0</td>\n",
       "      <td>3.974787e+07</td>\n",
       "      <td>2.069689e+08</td>\n",
       "      <td>218.00</td>\n",
       "      <td>6000000.00</td>\n",
       "      <td>20000000.00</td>\n",
       "      <td>45000000.00</td>\n",
       "      <td>1.221550e+10</td>\n",
       "    </tr>\n",
       "    <tr>\n",
       "      <th>title_year</th>\n",
       "      <td>4891.0</td>\n",
       "      <td>2.002469e+03</td>\n",
       "      <td>1.247524e+01</td>\n",
       "      <td>1916.00</td>\n",
       "      <td>1999.00</td>\n",
       "      <td>2005.00</td>\n",
       "      <td>2011.00</td>\n",
       "      <td>2.016000e+03</td>\n",
       "    </tr>\n",
       "    <tr>\n",
       "      <th>actor_2_facebook_likes</th>\n",
       "      <td>4985.0</td>\n",
       "      <td>1.642999e+03</td>\n",
       "      <td>4.030925e+03</td>\n",
       "      <td>0.00</td>\n",
       "      <td>280.00</td>\n",
       "      <td>595.00</td>\n",
       "      <td>917.00</td>\n",
       "      <td>1.370000e+05</td>\n",
       "    </tr>\n",
       "    <tr>\n",
       "      <th>imdb_score</th>\n",
       "      <td>4998.0</td>\n",
       "      <td>6.441056e+00</td>\n",
       "      <td>1.124107e+00</td>\n",
       "      <td>1.60</td>\n",
       "      <td>5.80</td>\n",
       "      <td>6.60</td>\n",
       "      <td>7.20</td>\n",
       "      <td>9.500000e+00</td>\n",
       "    </tr>\n",
       "    <tr>\n",
       "      <th>aspect_ratio</th>\n",
       "      <td>4671.0</td>\n",
       "      <td>2.221417e+00</td>\n",
       "      <td>1.391185e+00</td>\n",
       "      <td>1.18</td>\n",
       "      <td>1.85</td>\n",
       "      <td>2.35</td>\n",
       "      <td>2.35</td>\n",
       "      <td>1.600000e+01</td>\n",
       "    </tr>\n",
       "    <tr>\n",
       "      <th>movie_facebook_likes</th>\n",
       "      <td>4998.0</td>\n",
       "      <td>7.487430e+03</td>\n",
       "      <td>1.929073e+04</td>\n",
       "      <td>0.00</td>\n",
       "      <td>0.00</td>\n",
       "      <td>162.50</td>\n",
       "      <td>3000.00</td>\n",
       "      <td>3.490000e+05</td>\n",
       "    </tr>\n",
       "  </tbody>\n",
       "</table>\n",
       "</div>"
      ],
      "text/plain": [
       "                            count          mean           std      min  \\\n",
       "num_critic_for_reviews     4949.0  1.398901e+02  1.214776e+02     1.00   \n",
       "duration                   4983.0  1.072133e+02  2.524878e+01     7.00   \n",
       "director_facebook_likes    4895.0  6.886791e+02  2.821650e+03     0.00   \n",
       "actor_3_facebook_likes     4975.0  6.399009e+02  1.643298e+03     0.00   \n",
       "actor_1_facebook_likes     4991.0  6.556940e+03  1.506159e+04     0.00   \n",
       "gross                      4124.0  4.832565e+07  6.796483e+07   162.00   \n",
       "num_voted_users            4998.0  8.347020e+04  1.380866e+05     5.00   \n",
       "cast_total_facebook_likes  4998.0  9.676941e+03  1.816540e+04     0.00   \n",
       "facenumber_in_poster       4985.0  1.368907e+00  2.014623e+00     0.00   \n",
       "num_user_for_reviews       4977.0  2.720147e+02  3.777762e+02     1.00   \n",
       "budget                     4511.0  3.974787e+07  2.069689e+08   218.00   \n",
       "title_year                 4891.0  2.002469e+03  1.247524e+01  1916.00   \n",
       "actor_2_facebook_likes     4985.0  1.642999e+03  4.030925e+03     0.00   \n",
       "imdb_score                 4998.0  6.441056e+00  1.124107e+00     1.60   \n",
       "aspect_ratio               4671.0  2.221417e+00  1.391185e+00     1.18   \n",
       "movie_facebook_likes       4998.0  7.487430e+03  1.929073e+04     0.00   \n",
       "\n",
       "                                  25%          50%          75%           max  \n",
       "num_critic_for_reviews          50.00       110.00       195.00  8.130000e+02  \n",
       "duration                        93.00       103.00       118.00  5.110000e+02  \n",
       "director_facebook_likes          7.00        49.00       192.00  2.300000e+04  \n",
       "actor_3_facebook_likes         133.00       369.00       635.00  2.300000e+04  \n",
       "actor_1_facebook_likes         611.50       984.00     11000.00  6.400000e+05  \n",
       "gross                      5304835.25  25445749.00  62319416.00  7.605058e+08  \n",
       "num_voted_users               8560.00     34260.50     96120.75  1.689764e+06  \n",
       "cast_total_facebook_likes     1405.50      3085.50     13740.50  6.567300e+05  \n",
       "facenumber_in_poster             0.00         1.00         2.00  4.300000e+01  \n",
       "num_user_for_reviews            64.00       156.00       324.00  5.060000e+03  \n",
       "budget                     6000000.00  20000000.00  45000000.00  1.221550e+10  \n",
       "title_year                    1999.00      2005.00      2011.00  2.016000e+03  \n",
       "actor_2_facebook_likes         280.00       595.00       917.00  1.370000e+05  \n",
       "imdb_score                       5.80         6.60         7.20  9.500000e+00  \n",
       "aspect_ratio                     1.85         2.35         2.35  1.600000e+01  \n",
       "movie_facebook_likes             0.00       162.50      3000.00  3.490000e+05  "
      ]
     },
     "execution_count": 12,
     "metadata": {},
     "output_type": "execute_result"
    }
   ],
   "source": [
    "dataset.describe().T"
   ]
  },
  {
   "cell_type": "code",
   "execution_count": 13,
   "id": "440d7bb9",
   "metadata": {},
   "outputs": [
    {
     "data": {
      "text/plain": [
       "0"
      ]
     },
     "execution_count": 13,
     "metadata": {},
     "output_type": "execute_result"
    }
   ],
   "source": [
    "color_mode = dataset['color'].mode().iloc[0]\n",
    "dataset.color.fillna(color_mode, inplace = True)\n",
    "dataset.color.isnull().sum()"
   ]
  },
  {
   "cell_type": "code",
   "execution_count": 14,
   "id": "f28b76f8",
   "metadata": {},
   "outputs": [],
   "source": [
    "dataset = dataset.dropna(axis = 0, subset = ['director_name'] )"
   ]
  },
  {
   "cell_type": "code",
   "execution_count": 15,
   "id": "7b7e86e1",
   "metadata": {},
   "outputs": [
    {
     "data": {
      "text/plain": [
       "(1.0, 813.0, 112.0)"
      ]
     },
     "execution_count": 15,
     "metadata": {},
     "output_type": "execute_result"
    }
   ],
   "source": [
    "dataset.num_critic_for_reviews.min(), dataset.num_critic_for_reviews.max(), dataset.num_critic_for_reviews.median()"
   ]
  },
  {
   "cell_type": "code",
   "execution_count": 16,
   "id": "3a20fca1",
   "metadata": {},
   "outputs": [
    {
     "data": {
      "text/plain": [
       "0"
      ]
     },
     "execution_count": 16,
     "metadata": {},
     "output_type": "execute_result"
    }
   ],
   "source": [
    "num_critic_for_reviews_median = dataset['num_critic_for_reviews'].median()\n",
    "dataset.num_critic_for_reviews.fillna(num_critic_for_reviews_median, inplace = True)\n",
    "dataset.num_critic_for_reviews.isnull().sum()"
   ]
  },
  {
   "cell_type": "code",
   "execution_count": 17,
   "id": "5baadb2d",
   "metadata": {},
   "outputs": [
    {
     "data": {
      "text/plain": [
       "0"
      ]
     },
     "execution_count": 17,
     "metadata": {},
     "output_type": "execute_result"
    }
   ],
   "source": [
    "duration_median = dataset.duration.median()\n",
    "dataset.duration.fillna(duration_median, inplace=True)\n",
    "dataset.duration.isnull().sum()"
   ]
  },
  {
   "cell_type": "code",
   "execution_count": 18,
   "id": "c332d1d1",
   "metadata": {},
   "outputs": [
    {
     "data": {
      "text/plain": [
       "0"
      ]
     },
     "execution_count": 18,
     "metadata": {},
     "output_type": "execute_result"
    }
   ],
   "source": [
    "director_facebook_likes_mean = dataset.director_facebook_likes.mean()\n",
    "dataset.director_facebook_likes.fillna(director_facebook_likes_mean, inplace = True)\n",
    "dataset.director_facebook_likes.isnull().sum()"
   ]
  },
  {
   "cell_type": "code",
   "execution_count": 20,
   "id": "72d5369d",
   "metadata": {},
   "outputs": [
    {
     "data": {
      "text/plain": [
       "0.0"
      ]
     },
     "execution_count": 20,
     "metadata": {},
     "output_type": "execute_result"
    }
   ],
   "source": [
    "dataset.actor_3_facebook_likes.min()"
   ]
  },
  {
   "cell_type": "code",
   "execution_count": 21,
   "id": "cd117014",
   "metadata": {},
   "outputs": [
    {
     "data": {
      "text/plain": [
       "23000.0"
      ]
     },
     "execution_count": 21,
     "metadata": {},
     "output_type": "execute_result"
    }
   ],
   "source": [
    "dataset.actor_3_facebook_likes.max()"
   ]
  },
  {
   "cell_type": "code",
   "execution_count": 22,
   "id": "5042a51d",
   "metadata": {},
   "outputs": [
    {
     "data": {
      "text/plain": [
       "372.0"
      ]
     },
     "execution_count": 22,
     "metadata": {},
     "output_type": "execute_result"
    }
   ],
   "source": [
    "dataset.actor_3_facebook_likes.median()"
   ]
  },
  {
   "cell_type": "code",
   "execution_count": 23,
   "id": "0a72fd96",
   "metadata": {},
   "outputs": [
    {
     "data": {
      "text/plain": [
       "646.1009230769231"
      ]
     },
     "execution_count": 23,
     "metadata": {},
     "output_type": "execute_result"
    }
   ],
   "source": [
    "dataset.actor_3_facebook_likes.mean()"
   ]
  },
  {
   "cell_type": "code",
   "execution_count": 24,
   "id": "2b1204a1",
   "metadata": {},
   "outputs": [
    {
     "data": {
      "text/plain": [
       "0"
      ]
     },
     "execution_count": 24,
     "metadata": {},
     "output_type": "execute_result"
    }
   ],
   "source": [
    "actor_3_facebook_likes_mean = dataset.actor_3_facebook_likes.mean()\n",
    "dataset.actor_3_facebook_likes.fillna(actor_3_facebook_likes_mean, inplace = True)\n",
    "dataset.actor_3_facebook_likes.isnull().sum()"
   ]
  },
  {
   "cell_type": "code",
   "execution_count": 25,
   "id": "5a386acb",
   "metadata": {},
   "outputs": [
    {
     "data": {
      "text/plain": [
       "0"
      ]
     },
     "execution_count": 25,
     "metadata": {},
     "output_type": "execute_result"
    }
   ],
   "source": [
    "dataset = dataset.dropna(axis = 0, subset = ['actor_2_name'])\n",
    "dataset.actor_2_name.isnull().sum()"
   ]
  },
  {
   "cell_type": "code",
   "execution_count": 26,
   "id": "64632a35",
   "metadata": {},
   "outputs": [
    {
     "data": {
      "text/plain": [
       "0"
      ]
     },
     "execution_count": 26,
     "metadata": {},
     "output_type": "execute_result"
    }
   ],
   "source": [
    "actor_1_facebook_likes_mean = dataset.actor_1_facebook_likes.mean()\n",
    "dataset.actor_1_facebook_likes.fillna(actor_1_facebook_likes_mean, inplace = True)\n",
    "dataset.actor_1_facebook_likes.isnull().sum()"
   ]
  },
  {
   "cell_type": "code",
   "execution_count": 27,
   "id": "6f0fc0fa",
   "metadata": {},
   "outputs": [
    {
     "data": {
      "text/plain": [
       "0"
      ]
     },
     "execution_count": 27,
     "metadata": {},
     "output_type": "execute_result"
    }
   ],
   "source": [
    "dataset = dataset.dropna(axis = 0, subset = ['gross'])\n",
    "dataset.gross.isnull().sum()"
   ]
  },
  {
   "cell_type": "code",
   "execution_count": 28,
   "id": "49d0bef7",
   "metadata": {},
   "outputs": [
    {
     "data": {
      "text/plain": [
       "color                          0\n",
       "director_name                  0\n",
       "num_critic_for_reviews         0\n",
       "duration                       0\n",
       "director_facebook_likes        0\n",
       "actor_3_facebook_likes         0\n",
       "actor_2_name                   0\n",
       "actor_1_facebook_likes         0\n",
       "gross                          0\n",
       "genres                         0\n",
       "actor_1_name                   0\n",
       "movie_title                    0\n",
       "num_voted_users                0\n",
       "cast_total_facebook_likes      0\n",
       "actor_3_name                   7\n",
       "facenumber_in_poster           7\n",
       "plot_keywords                 39\n",
       "movie_imdb_link                0\n",
       "num_user_for_reviews           1\n",
       "language                       3\n",
       "country                        0\n",
       "content_rating                60\n",
       "budget                       263\n",
       "title_year                     0\n",
       "actor_2_facebook_likes         0\n",
       "imdb_score                     0\n",
       "aspect_ratio                 102\n",
       "movie_facebook_likes           0\n",
       "dtype: int64"
      ]
     },
     "execution_count": 28,
     "metadata": {},
     "output_type": "execute_result"
    }
   ],
   "source": [
    "dataset.shape\n",
    "dataset.isnull().sum()"
   ]
  },
  {
   "cell_type": "code",
   "execution_count": 29,
   "id": "4e8d46c2",
   "metadata": {},
   "outputs": [
    {
     "data": {
      "text/plain": [
       "0"
      ]
     },
     "execution_count": 29,
     "metadata": {},
     "output_type": "execute_result"
    }
   ],
   "source": [
    "dataset = dataset.dropna(axis = 0, subset = ['budget'])\n",
    "dataset.budget.isnull().sum()"
   ]
  },
  {
   "cell_type": "code",
   "execution_count": 30,
   "id": "220225c0",
   "metadata": {},
   "outputs": [
    {
     "data": {
      "text/plain": [
       "0"
      ]
     },
     "execution_count": 30,
     "metadata": {},
     "output_type": "execute_result"
    }
   ],
   "source": [
    "dataset = dataset.dropna(axis = 0, subset = ['actor_3_name'])\n",
    "dataset.actor_3_name.isnull().sum()"
   ]
  },
  {
   "cell_type": "code",
   "execution_count": 31,
   "id": "88398f35",
   "metadata": {},
   "outputs": [
    {
     "data": {
      "text/plain": [
       "0"
      ]
     },
     "execution_count": 31,
     "metadata": {},
     "output_type": "execute_result"
    }
   ],
   "source": [
    "facenumber_in_poster_median = dataset.facenumber_in_poster.median()\n",
    "dataset.facenumber_in_poster.fillna(facenumber_in_poster_median, inplace = True)\n",
    "dataset.facenumber_in_poster.isnull().sum()"
   ]
  },
  {
   "cell_type": "code",
   "execution_count": 32,
   "id": "94fd1d52",
   "metadata": {},
   "outputs": [
    {
     "data": {
      "text/plain": [
       "0"
      ]
     },
     "execution_count": 32,
     "metadata": {},
     "output_type": "execute_result"
    }
   ],
   "source": [
    "language_mode = dataset.language.mode().iloc[0]\n",
    "dataset.language.fillna(language_mode, inplace = True)\n",
    "dataset.language.isnull().sum()"
   ]
  },
  {
   "cell_type": "code",
   "execution_count": 33,
   "id": "2d82a626",
   "metadata": {},
   "outputs": [
    {
     "data": {
      "text/plain": [
       "0"
      ]
     },
     "execution_count": 33,
     "metadata": {},
     "output_type": "execute_result"
    }
   ],
   "source": [
    "dataset = dataset.dropna(axis = 0, subset = ['plot_keywords'])\n",
    "dataset.plot_keywords.isnull().sum()"
   ]
  },
  {
   "cell_type": "code",
   "execution_count": 34,
   "id": "700f547c",
   "metadata": {},
   "outputs": [
    {
     "data": {
      "text/plain": [
       "array(['PG-13', 'PG', 'G', 'R', 'Approved', 'NC-17', nan, 'X',\n",
       "       'Not Rated', 'Unrated', 'M', 'GP', 'Passed'], dtype=object)"
      ]
     },
     "execution_count": 34,
     "metadata": {},
     "output_type": "execute_result"
    }
   ],
   "source": [
    "dataset.content_rating.unique()"
   ]
  },
  {
   "cell_type": "code",
   "execution_count": 35,
   "id": "07209b30",
   "metadata": {},
   "outputs": [],
   "source": [
    "dataset.content_rating.fillna('Not Rated', inplace = True)"
   ]
  },
  {
   "cell_type": "code",
   "execution_count": 36,
   "id": "530d3ac2",
   "metadata": {},
   "outputs": [
    {
     "data": {
      "text/plain": [
       "array([ 1.78,  2.35,  1.85,  2.  ,  2.2 ,  2.39,  2.24,  1.66,  1.5 ,\n",
       "        1.77,  2.4 ,  1.37,   nan,  2.76,  1.33,  1.18,  2.55,  1.75,\n",
       "       16.  ])"
      ]
     },
     "execution_count": 36,
     "metadata": {},
     "output_type": "execute_result"
    }
   ],
   "source": [
    "dataset.aspect_ratio.unique()"
   ]
  },
  {
   "cell_type": "code",
   "execution_count": 37,
   "id": "8feebfbc",
   "metadata": {},
   "outputs": [],
   "source": [
    "aspect_ratio_mode = dataset.aspect_ratio.mode().iloc[0]\n",
    "dataset.aspect_ratio.fillna(aspect_ratio_mode, inplace = True)  "
   ]
  },
  {
   "cell_type": "code",
   "execution_count": 38,
   "id": "c0d7da58",
   "metadata": {},
   "outputs": [
    {
     "data": {
      "text/plain": [
       "color                        0\n",
       "director_name                0\n",
       "num_critic_for_reviews       0\n",
       "duration                     0\n",
       "director_facebook_likes      0\n",
       "actor_3_facebook_likes       0\n",
       "actor_2_name                 0\n",
       "actor_1_facebook_likes       0\n",
       "gross                        0\n",
       "genres                       0\n",
       "actor_1_name                 0\n",
       "movie_title                  0\n",
       "num_voted_users              0\n",
       "cast_total_facebook_likes    0\n",
       "actor_3_name                 0\n",
       "facenumber_in_poster         0\n",
       "plot_keywords                0\n",
       "movie_imdb_link              0\n",
       "num_user_for_reviews         0\n",
       "language                     0\n",
       "country                      0\n",
       "content_rating               0\n",
       "budget                       0\n",
       "title_year                   0\n",
       "actor_2_facebook_likes       0\n",
       "imdb_score                   0\n",
       "aspect_ratio                 0\n",
       "movie_facebook_likes         0\n",
       "dtype: int64"
      ]
     },
     "execution_count": 38,
     "metadata": {},
     "output_type": "execute_result"
    }
   ],
   "source": [
    "dataset.isnull().sum()"
   ]
  },
  {
   "cell_type": "code",
   "execution_count": 39,
   "id": "2bdf21e3",
   "metadata": {},
   "outputs": [
    {
     "data": {
      "text/plain": [
       "(array(['Color', ' Black and White'], dtype=object), 2)"
      ]
     },
     "execution_count": 39,
     "metadata": {},
     "output_type": "execute_result"
    }
   ],
   "source": [
    "dataset.color.unique(), dataset.color.nunique()"
   ]
  },
  {
   "cell_type": "code",
   "execution_count": 40,
   "id": "0465d6e5",
   "metadata": {},
   "outputs": [],
   "source": [
    "dataset['color'] = dataset.color.map({'Color' : 1 , ' Black and White' : 0})"
   ]
  },
  {
   "cell_type": "code",
   "execution_count": 41,
   "id": "c6e0c141",
   "metadata": {},
   "outputs": [
    {
     "data": {
      "text/plain": [
       "(array(['James Cameron', 'Gore Verbinski', 'Sam Mendes', ...,\n",
       "        'Kiyoshi Kurosawa', 'Shane Carruth', 'Neill Dela Llana'],\n",
       "       dtype=object),\n",
       " 1723)"
      ]
     },
     "execution_count": 41,
     "metadata": {},
     "output_type": "execute_result"
    }
   ],
   "source": [
    "dataset.director_name.unique(), dataset.director_name.nunique()"
   ]
  },
  {
   "cell_type": "code",
   "execution_count": 42,
   "id": "848b916d",
   "metadata": {},
   "outputs": [],
   "source": [
    "director_name_value_counts = dataset.director_name.value_counts()\n",
    "director_name_value_counts  = pd.DataFrame(director_name_value_counts).reset_index().rename(columns = {'index': 'director_name', 'director_name':'director_name_value_counts'})"
   ]
  },
  {
   "cell_type": "code",
   "execution_count": 43,
   "id": "87facdb4",
   "metadata": {},
   "outputs": [],
   "source": [
    "dataset = pd.merge(dataset, director_name_value_counts,left_on = 'director_name', right_on = 'director_name', how = 'left')"
   ]
  },
  {
   "cell_type": "code",
   "execution_count": 44,
   "id": "157894b0",
   "metadata": {},
   "outputs": [],
   "source": [
    "dataset = dataset.drop(columns = 'director_name')"
   ]
  },
  {
   "cell_type": "code",
   "execution_count": 45,
   "id": "2879028f",
   "metadata": {},
   "outputs": [],
   "source": [
    "actor_2_name_value_counts = dataset.actor_2_name.value_counts()\n",
    "actor_2_name_value_counts  = pd.DataFrame(actor_2_name_value_counts).reset_index().rename(columns = {'index': 'actor_2_name', 'actor_2_name':'actor_2_name_value_counts'})"
   ]
  },
  {
   "cell_type": "code",
   "execution_count": 46,
   "id": "7341ae1d",
   "metadata": {},
   "outputs": [],
   "source": [
    "dataset = pd.merge(dataset, actor_2_name_value_counts,left_on = 'actor_2_name', right_on = 'actor_2_name', how = 'left')"
   ]
  },
  {
   "cell_type": "code",
   "execution_count": 47,
   "id": "930590c6",
   "metadata": {},
   "outputs": [],
   "source": [
    "dataset = dataset.drop(columns = 'actor_2_name')"
   ]
  },
  {
   "cell_type": "code",
   "execution_count": 48,
   "id": "2217adad",
   "metadata": {},
   "outputs": [
    {
     "data": {
      "text/plain": [
       "(array(['Action|Adventure|Fantasy|Sci-Fi', 'Action|Adventure|Fantasy',\n",
       "        'Action|Adventure|Thriller', 'Action|Thriller',\n",
       "        'Action|Adventure|Sci-Fi', 'Action|Adventure|Romance',\n",
       "        'Adventure|Animation|Comedy|Family|Fantasy|Musical|Romance',\n",
       "        'Adventure|Family|Fantasy|Mystery', 'Action|Adventure',\n",
       "        'Action|Adventure|Western', 'Action|Adventure|Family|Fantasy',\n",
       "        'Action|Adventure|Comedy|Family|Fantasy|Sci-Fi',\n",
       "        'Adventure|Fantasy', 'Action|Adventure|Drama|History',\n",
       "        'Adventure|Family|Fantasy', 'Action|Adventure|Drama|Romance',\n",
       "        'Drama|Romance', 'Action|Adventure|Sci-Fi|Thriller',\n",
       "        'Action|Adventure|Fantasy|Romance',\n",
       "        'Action|Adventure|Fantasy|Sci-Fi|Thriller',\n",
       "        'Adventure|Animation|Comedy|Family|Fantasy',\n",
       "        'Adventure|Animation|Comedy|Family|Sport', 'Action|Crime|Thriller',\n",
       "        'Action|Adventure|Horror|Sci-Fi|Thriller',\n",
       "        'Adventure|Animation|Family|Sci-Fi',\n",
       "        'Action|Comedy|Crime|Thriller', 'Animation|Drama|Family|Fantasy',\n",
       "        'Action|Crime|Drama|Thriller', 'Adventure|Animation|Comedy|Family',\n",
       "        'Action|Adventure|Animation|Comedy|Family|Sci-Fi',\n",
       "        'Adventure|Drama|Family|Mystery', 'Action|Comedy|Sci-Fi|Western',\n",
       "        'Action|Adventure|Fantasy|Horror|Thriller',\n",
       "        'Action|Adventure|Comedy|Sci-Fi', 'Comedy|Family|Fantasy',\n",
       "        'Adventure|Animation|Comedy|Drama|Family|Fantasy',\n",
       "        'Adventure|Drama|Family|Fantasy', 'Action|Adventure|Drama|Fantasy',\n",
       "        'Action|Adventure|Family|Fantasy|Romance',\n",
       "        'Action|Adventure|Drama|Sci-Fi',\n",
       "        'Action|Adventure|Family|Mystery|Sci-Fi',\n",
       "        'Action|Adventure|Animation|Comedy|Drama|Family|Sci-Fi',\n",
       "        'Adventure|Animation|Comedy|Family|Sci-Fi',\n",
       "        'Adventure|Animation|Family|Fantasy', 'Action|Sci-Fi',\n",
       "        'Adventure|Drama|Sci-Fi', 'Drama|Fantasy|Romance',\n",
       "        'Adventure|Sci-Fi', 'Action|Adventure|Drama|Thriller',\n",
       "        'Action|Drama|History|Romance|War',\n",
       "        'Action|Adventure|Biography|Drama|History|Romance|War',\n",
       "        'Action|Drama', 'Drama|Horror|Sci-Fi',\n",
       "        'Adventure|Comedy|Family|Fantasy',\n",
       "        'Animation|Comedy|Family|Fantasy',\n",
       "        'Action|Adventure|Animation|Comedy|Family',\n",
       "        'Adventure|Animation|Comedy|Family|Fantasy|Musical',\n",
       "        'Mystery|Thriller', 'Adventure|Animation|Comedy|Drama|Family',\n",
       "        'Action|Adventure|Animation|Comedy|Family|Fantasy|Sci-Fi',\n",
       "        'Comedy|Fantasy|Horror', 'Drama|Fantasy|Horror|Thriller',\n",
       "        'Action|Drama|Thriller', 'Adventure',\n",
       "        'Action|Comedy|Fantasy|Sci-Fi',\n",
       "        'Action|Adventure|Comedy|Family|Fantasy|Mystery|Sci-Fi',\n",
       "        'Action|Adventure|Animation|Fantasy', 'Comedy|Crime',\n",
       "        'Action|Drama|History|War', 'Action|Adventure|Drama',\n",
       "        'Action|Adventure|Animation|Comedy|Family|Fantasy',\n",
       "        'Action|Drama|Mystery|Sci-Fi', 'Action|Adventure|Comedy|Thriller',\n",
       "        'Action|Adventure|Animation|Fantasy|Romance|Sci-Fi',\n",
       "        'Action|Adventure|Drama|History|War',\n",
       "        'Adventure|Drama|Fantasy|Romance',\n",
       "        'Animation|Comedy|Family|Musical',\n",
       "        'Adventure|Drama|Thriller|Western',\n",
       "        'Adventure|Animation|Comedy|Family|Western',\n",
       "        'Action|Mystery|Thriller', 'Adventure|Sci-Fi|Thriller',\n",
       "        'Adventure|Animation|Comedy|Family|Fantasy|Sci-Fi',\n",
       "        'Action|Crime|Mystery|Thriller', 'Action|Adventure|Family|Mystery',\n",
       "        'Adventure|Drama|Romance|War',\n",
       "        'Adventure|Animation|Family|Thriller',\n",
       "        'Action|Animation|Comedy|Family|Sci-Fi', 'Action|Comedy|Fantasy',\n",
       "        'Adventure|Animation|Comedy|Family|Musical',\n",
       "        'Action|Adventure|Crime|Mystery|Thriller',\n",
       "        'Action|Adventure|History', 'Action', 'Adventure|Drama|Fantasy',\n",
       "        'Action|Fantasy|Thriller', 'Action|Adventure|Comedy|Crime',\n",
       "        'Adventure|Mystery|Sci-Fi', 'Action|Drama|Sci-Fi|Thriller',\n",
       "        'Action|Crime|Sci-Fi|Thriller', 'Action|Family|Sport',\n",
       "        'Comedy|Drama|Romance', 'Action|Comedy|Romance',\n",
       "        'Action|Adventure|Mystery|Sci-Fi', 'Action|Drama|War',\n",
       "        'Adventure|Drama|Sci-Fi|Thriller',\n",
       "        'Action|Adventure|Comedy|Family|Fantasy', 'Crime|Thriller',\n",
       "        'Action|Comedy|Crime|Romance|Thriller', 'Biography|Drama',\n",
       "        'Action|Comedy|Crime|Sci-Fi|Thriller', 'Action|Drama|Fantasy|War',\n",
       "        'Animation|Comedy|Family|Music|Western',\n",
       "        'Action|Adventure|Mystery|Sci-Fi|Thriller',\n",
       "        'Action|Drama|Sci-Fi|Sport', 'Action|Crime|Romance|Thriller',\n",
       "        'Action|Adventure|Comedy', 'Biography|Drama|Sport',\n",
       "        'Action|Mystery|Sci-Fi|Thriller',\n",
       "        'Animation|Family|Fantasy|Musical|Romance',\n",
       "        'Action|Adventure|Romance|Sci-Fi|Thriller', 'Comedy|Romance',\n",
       "        'Action|Drama|Romance', 'Biography|Crime|Drama|History|Romance',\n",
       "        'Biography|Crime|Drama', 'Action|Comedy|Thriller',\n",
       "        'Action|Comedy|Crime', 'Action|Drama|Mystery|Thriller',\n",
       "        'Drama|Western', 'Animation|Drama|Family|Musical|Romance',\n",
       "        'Action|Adventure|Comedy|Family|Mystery',\n",
       "        'Action|Romance|Thriller', 'Action|Fantasy|Horror|Mystery',\n",
       "        'Adventure|Drama|Thriller', 'Biography|Comedy|Crime|Drama',\n",
       "        'Action|Sci-Fi|War', 'Drama|Sci-Fi',\n",
       "        'Action|Adventure|Animation|Family|Fantasy',\n",
       "        'Action|Crime|Fantasy|Romance|Thriller', 'Adventure|Comedy|Sci-Fi',\n",
       "        'Action|Crime|Sport|Thriller',\n",
       "        'Action|Adventure|Biography|Drama|History|Thriller',\n",
       "        'Action|Comedy|Sci-Fi', 'Action|Drama|Thriller|War',\n",
       "        'Drama|Mystery|Thriller', 'Action|Adventure|Fantasy|Thriller',\n",
       "        'Crime|Drama', 'Drama|History|Romance|War',\n",
       "        'Animation|Comedy|Family|Sport', 'Comedy|Sci-Fi|Thriller',\n",
       "        'Drama|History|War', 'Comedy',\n",
       "        'Adventure|Animation|Comedy|Family|Romance',\n",
       "        'Drama|Family|Fantasy|Romance', 'Drama|Fantasy|Thriller',\n",
       "        'Drama|Mystery|Romance|Sci-Fi|Thriller',\n",
       "        'Drama|History|War|Western', 'Action|Adventure|Animation|Family',\n",
       "        'Adventure|Comedy|Family|Mystery|Sci-Fi',\n",
       "        'Drama|Fantasy|Horror|Mystery|Thriller',\n",
       "        'Animation|Comedy|Family|Sci-Fi',\n",
       "        'Adventure|Comedy|Drama|Fantasy|Romance',\n",
       "        'Action|Adventure|Comedy|Crime|Thriller', 'Crime|Drama|Thriller',\n",
       "        'Adventure|Animation|Family|Fantasy|Musical|War', 'Action|Comedy',\n",
       "        'Crime|Drama|Mystery|Thriller',\n",
       "        'Action|Adventure|Animation|Family|Fantasy|Sci-Fi',\n",
       "        'Adventure|Animation|Comedy|Family|Fantasy|Music',\n",
       "        'Drama|History|Thriller|War', 'Action|Animation|Comedy|Sci-Fi',\n",
       "        'Comedy|Family|Fantasy|Horror|Mystery',\n",
       "        'Drama|Mystery|Sci-Fi|Thriller', 'Action|Horror|Sci-Fi|Thriller',\n",
       "        'Crime|Mystery|Thriller',\n",
       "        'Action|Adventure|Comedy|Crime|Mystery|Thriller',\n",
       "        'Comedy|Drama|Sci-Fi', 'Action|Family|Fantasy|Musical',\n",
       "        'Drama|History|Sport', 'Adventure|Drama|Romance',\n",
       "        'Animation|Comedy|Family|Music|Romance',\n",
       "        'Animation|Comedy|Family|Fantasy|Musical|Romance',\n",
       "        'Adventure|Comedy|Family', 'Action|Crime|Drama|Mystery|Thriller',\n",
       "        'Action|Adventure|Comedy|Fantasy',\n",
       "        'Adventure|Comedy|Drama|Family|Fantasy',\n",
       "        'Action|Comedy|Fantasy|Romance', 'Comedy|Romance|Sci-Fi',\n",
       "        'Adventure|Comedy|Mystery', 'Comedy|Drama|Fantasy|Romance',\n",
       "        'Action|Comedy|Family|Fantasy',\n",
       "        'Action|Adventure|Fantasy|Horror|Sci-Fi',\n",
       "        'Crime|Drama|History|Mystery|Thriller', 'Comedy|Drama',\n",
       "        'Adventure|Animation|Comedy|Drama|Family|Fantasy|Sci-Fi',\n",
       "        'Action|Drama|Romance|Sci-Fi|Thriller', 'Comedy|Crime|Sport',\n",
       "        'Comedy|Family|Fantasy|Romance',\n",
       "        'Adventure|Drama|History|Romance|War', 'Comedy|Family|Sci-Fi',\n",
       "        'Fantasy|Horror|Mystery|Thriller',\n",
       "        'Adventure|Animation|Comedy|Family|Fantasy|Sci-Fi|Sport',\n",
       "        'Adventure|Comedy|Crime|Family|Mystery', 'Drama|Sci-Fi|Thriller',\n",
       "        'Action|Crime|Mystery|Romance|Thriller',\n",
       "        'Action|Adventure|Comedy|Romance',\n",
       "        'Adventure|Animation|Family|Western', 'Comedy|Family|Romance',\n",
       "        'Action|Adventure|Family|Sci-Fi|Thriller',\n",
       "        'Animation|Family|Fantasy|Music',\n",
       "        'Action|Adventure|Family|Fantasy|Thriller', 'Comedy|Fantasy',\n",
       "        'Action|Adventure|Comedy|Fantasy|Thriller',\n",
       "        'Action|Sci-Fi|Thriller', 'Drama|History|Thriller',\n",
       "        'Adventure|Animation|Family', 'Drama|Musical|Romance',\n",
       "        'Documentary|Drama', 'Action|Adventure|Drama|History|Romance',\n",
       "        'Adventure|Animation|Drama|Family|Musical',\n",
       "        'Animation|Comedy|Family|Fantasy|Sci-Fi',\n",
       "        'Adventure|Animation|Drama|Family|Fantasy', 'Sci-Fi|Thriller',\n",
       "        'Animation|Comedy|Family', 'Action|Crime|Fantasy|Thriller',\n",
       "        'Comedy|Drama|Family|Music|Musical|Romance',\n",
       "        'Horror|Mystery|Thriller', 'Action|Adventure|Comedy|Family|Sci-Fi',\n",
       "        'Comedy|Family', 'Biography|Comedy|Drama|History',\n",
       "        'Drama|Music|Musical', 'Comedy|Crime|Music',\n",
       "        'Action|Comedy|Romance|Thriller',\n",
       "        'Animation|Comedy|Family|Fantasy|Mystery',\n",
       "        'Comedy|Crime|Drama|Romance', 'Action|Adventure|Romance|Thriller',\n",
       "        'Drama|History|Romance', 'Action|Drama|Fantasy|Romance',\n",
       "        'Action|Adventure|Animation|Family|Sci-Fi', 'Action|Drama|Sci-Fi',\n",
       "        'Animation|Comedy|Fantasy', 'Action|Fantasy',\n",
       "        'Action|Animation|Comedy|Family',\n",
       "        'Action|Adventure|Comedy|Romance|Thriller', 'Action|Comedy|Sport',\n",
       "        'Biography|Drama|History|War', 'Adventure|Animation|Comedy',\n",
       "        'Action|Drama|Sport', 'Adventure|Drama|Family',\n",
       "        'Drama|Mystery|Romance|Thriller',\n",
       "        'Adventure|Animation|Comedy|Family|Fantasy|Romance',\n",
       "        'Adventure|Drama|War', 'Action|Adventure|Crime|Thriller',\n",
       "        'Fantasy|Mystery|Romance|Sci-Fi|Thriller',\n",
       "        'Drama|Fantasy|Mystery|Thriller',\n",
       "        'Animation|Comedy|Family|Fantasy|Music',\n",
       "        'Drama|Horror|Romance|Thriller', 'Drama|War', 'Drama',\n",
       "        'Action|Drama|Fantasy|Horror|War',\n",
       "        'Adventure|Family|Fantasy|Romance',\n",
       "        'Adventure|Biography|Drama|History|War',\n",
       "        'Action|Adventure|Horror|Sci-Fi', 'Action|Fantasy|Horror',\n",
       "        'Comedy|Drama|Musical|Romance', 'Action|Sci-Fi|Sport',\n",
       "        'Action|Adventure|Animation|Comedy|Crime|Family|Fantasy',\n",
       "        'Adventure|Animation|Family|Fantasy|Musical',\n",
       "        'Action|Crime|Mystery|Sci-Fi|Thriller',\n",
       "        'Action|Comedy|Crime|Drama|Thriller',\n",
       "        'Adventure|Drama|History|Romance', 'Biography|Drama|Thriller',\n",
       "        'Action|Adventure|Fantasy|War', 'Comedy|Fantasy|Romance',\n",
       "        'Drama|Horror|Sci-Fi|Thriller', 'Adventure|Drama|History',\n",
       "        'Action|Adventure|Comedy|Romance|Thriller|Western',\n",
       "        'Biography|Drama|Sport|War', 'Comedy|Drama|Family|Musical',\n",
       "        'Action|Adventure|Fantasy|Horror|Sci-Fi|Thriller', 'Drama|Sport',\n",
       "        'Action|Fantasy|Sci-Fi|Thriller', 'Drama|Mystery|Romance',\n",
       "        'Adventure|Biography|Drama|History|Sport|Thriller',\n",
       "        'Crime|Drama|Fantasy', 'Adventure|Biography|Crime|Drama|Western',\n",
       "        'Action|War', 'Comedy|Romance|Sport',\n",
       "        'Crime|Drama|Mystery|Thriller|Western', 'Comedy|Sport',\n",
       "        'Comedy|Drama|Family', 'Crime|Drama|Fantasy|Mystery',\n",
       "        'Adventure|Animation|Biography|Drama|Family|Fantasy|Musical',\n",
       "        'Drama|Romance|Western', 'Documentary|Music', 'Drama|Thriller',\n",
       "        'Animation|Family|Fantasy', 'Action|Fantasy|Horror|Sci-Fi',\n",
       "        'Biography|Comedy|Drama', 'Action|Horror|Sci-Fi',\n",
       "        'Adventure|Comedy', 'Biography|Drama|History|Sport',\n",
       "        'Comedy|Crime|Romance|Thriller', 'Comedy|Crime|Romance',\n",
       "        'Horror|Mystery|Sci-Fi|Thriller', 'Biography|Drama|Music',\n",
       "        'Drama|Fantasy|Sport', 'Adventure|Comedy|Drama|Music',\n",
       "        'Action|Fantasy|Horror|Sci-Fi|Thriller',\n",
       "        'Adventure|Animation|Comedy|Drama|Family|Fantasy|Romance',\n",
       "        'Horror|Sci-Fi|Thriller', 'Drama|Fantasy|Mystery|Romance|Thriller',\n",
       "        'Action|Adventure|Drama|History|Romance|War',\n",
       "        'Drama|Fantasy|Mystery|Romance', 'Fantasy|Horror|Mystery|Romance',\n",
       "        'Adventure|Comedy|Family|Romance|Sci-Fi', 'Drama|Horror|Thriller',\n",
       "        'Action|Comedy|Mystery|Romance',\n",
       "        'Action|Adventure|Comedy|Romance|Sci-Fi',\n",
       "        'Action|Biography|Drama|History|Thriller|War',\n",
       "        'Adventure|Comedy|Family|Fantasy|Horror',\n",
       "        'Comedy|Family|Romance|Sci-Fi', 'Action|Adventure|Thriller|War',\n",
       "        'Comedy|Drama|Romance|Sport', 'Action|Comedy|Crime|Drama',\n",
       "        'Drama|Music|Romance|War', 'Action|Comedy|Drama|Family|Thriller',\n",
       "        'Action|Crime',\n",
       "        'Adventure|Animation|Drama|Family|History|Musical|Romance',\n",
       "        'Action|Adventure|Drama|Romance|Sci-Fi',\n",
       "        'Action|Adventure|Comedy|Family|Romance',\n",
       "        'Action|Adventure|Comedy|Western',\n",
       "        'Biography|Drama|History|Musical',\n",
       "        'Adventure|Drama|Horror|Thriller', 'Action|Drama|Sport|Thriller',\n",
       "        'Drama|Musical|Romance|Thriller', 'Comedy|Drama|Family|Fantasy',\n",
       "        'Adventure|Comedy|Crime|Family|Musical',\n",
       "        'Drama|Music|Musical|Romance', 'Drama|Mystery|Romance|War',\n",
       "        'Action|Adventure|Romance|Sci-Fi',\n",
       "        'Adventure|Animation|Drama|Family|Fantasy|Musical|Mystery|Romance',\n",
       "        'Action|Horror|Thriller', 'Drama|History|Horror',\n",
       "        'Drama|Romance|Sport', 'Comedy|Family|Musical|Romance',\n",
       "        'Romance|Sci-Fi|Thriller', 'Biography|Comedy|Drama|Romance',\n",
       "        'Mystery|Sci-Fi|Thriller', 'Drama|Fantasy|Horror',\n",
       "        'Adventure|Comedy|Drama|Fantasy|Musical',\n",
       "        'Action|Adventure|Family|Fantasy|Sci-Fi|Thriller',\n",
       "        'Adventure|Comedy|Family|Fantasy|Romance|Sport',\n",
       "        'Adventure|Horror|Mystery', 'Crime|Drama|Romance|Thriller',\n",
       "        'Comedy|Crime|Drama|Thriller', 'Drama|Fantasy',\n",
       "        'Adventure|Comedy|Drama', 'Action|Biography|Drama|History|War',\n",
       "        'Adventure|Comedy|Fantasy', 'Adventure|Comedy|Crime|Drama|Family',\n",
       "        'Action|Biography|Crime|Drama|Thriller', 'Comedy|Sci-Fi',\n",
       "        'Action|Adventure|Comedy|Crime|Music|Mystery',\n",
       "        'Action|Crime|Drama|Sci-Fi|Thriller',\n",
       "        'Action|Adventure|Comedy|Drama|War', 'Drama|Mystery|Sci-Fi',\n",
       "        'Crime|Drama|Music', 'Adventure|Crime|Drama|Western',\n",
       "        'Comedy|Drama|Thriller',\n",
       "        'Action|Comedy|Crime|Music|Romance|Thriller',\n",
       "        'Crime|Romance|Thriller', 'Action|Adventure|Drama|Sci-Fi|Thriller',\n",
       "        'Action|Drama|Fantasy|Thriller|Western',\n",
       "        'Action|Drama|Mystery|Thriller|War', 'Action|Comedy|Crime|Romance',\n",
       "        'Action|Adventure|Family|Fantasy|Sci-Fi',\n",
       "        'Adventure|Comedy|Family|Musical', 'Action|Horror',\n",
       "        'Action|Adventure|Horror|Thriller', 'Comedy|Drama|Music|Romance',\n",
       "        'Action|Crime|Drama|Romance|Thriller',\n",
       "        'Comedy|Family|Romance|Sport', 'Drama|Family|Fantasy',\n",
       "        'Drama|Fantasy|Musical|Romance',\n",
       "        'Adventure|Comedy|Family|Fantasy|Sci-Fi', 'Comedy|Musical',\n",
       "        'Biography|Drama|History', 'Action|Crime|Drama|Thriller|War',\n",
       "        'Comedy|Crime|Thriller', 'Biography|Drama|History|Thriller',\n",
       "        'Action|Adventure|Crime|Drama|Mystery|Thriller',\n",
       "        'Animation|Family|Fantasy|Musical', 'Adventure|Drama|Western',\n",
       "        'Biography|Drama|History|Romance', 'Drama|Horror|Mystery|Thriller',\n",
       "        'Action|Fantasy|Western', 'Drama|Music',\n",
       "        'Action|Drama|Family|Sport', 'Action|Biography|Drama|Thriller|War',\n",
       "        'Comedy|Drama|Sport', 'Horror|Mystery',\n",
       "        'Adventure|Comedy|Sci-Fi|Western', 'Fantasy|Horror|Romance',\n",
       "        'Biography|Drama|Romance', 'Action|Adventure|Drama|Romance|War',\n",
       "        'Adventure|Comedy|Crime|Romance',\n",
       "        'Comedy|Drama|Family|Fantasy|Romance', 'Horror',\n",
       "        'Action|Adventure|Drama|Romance|Thriller',\n",
       "        'Biography|Drama|Music|Musical', 'Drama|History', 'Comedy|Western',\n",
       "        'Action|Adventure|Crime|Fantasy|Mystery|Thriller',\n",
       "        'Adventure|Drama|Mystery', 'Biography|Crime|Drama|Music',\n",
       "        'Crime|Drama|Horror|Thriller', 'Horror|Thriller',\n",
       "        'Adventure|Animation|Comedy|Drama|Family|Fantasy|Musical',\n",
       "        'Action|Adventure|Comedy|Music|Thriller',\n",
       "        'Adventure|Animation|Comedy|Crime|Family',\n",
       "        'Comedy|Romance|Sci-Fi|Thriller', 'Comedy|Crime|Family|Romance',\n",
       "        'Crime|Horror|Thriller', 'Action|Horror|Mystery|Sci-Fi|Thriller',\n",
       "        'Comedy|Fantasy|Sci-Fi',\n",
       "        'Adventure|Animation|Comedy|Fantasy|Romance',\n",
       "        'Action|Adventure|Family|Thriller',\n",
       "        'Adventure|Comedy|Drama|Romance|Thriller|War',\n",
       "        'Action|Drama|Fantasy', 'Action|Adventure|Drama|Fantasy|War',\n",
       "        'Drama|Fantasy|Romance|Sci-Fi',\n",
       "        'Animation|Comedy|Family|Horror|Sci-Fi',\n",
       "        'Biography|Drama|Romance|Sport', 'Action|Biography|Drama',\n",
       "        'Adventure|Drama', 'Horror|Mystery|Sci-Fi',\n",
       "        'Action|Adventure|Drama|Thriller|Western',\n",
       "        'Adventure|Family|Fantasy|Sci-Fi', 'Action|Biography|Drama|Sport',\n",
       "        'Drama|Family',\n",
       "        'Action|Adventure|Crime|Drama|Family|Fantasy|Romance|Thriller',\n",
       "        'Biography|Comedy|Romance', 'Action|Biography|Drama|History',\n",
       "        'Biography|Drama|War', 'Drama|Romance|War',\n",
       "        'Adventure|Comedy|Family|Sci-Fi',\n",
       "        'Biography|Drama|Family|History|Sport',\n",
       "        'Biography|Comedy|Drama|History|Music', 'Fantasy|Horror',\n",
       "        'Comedy|Drama|Romance|Sci-Fi',\n",
       "        'Adventure|Animation|Comedy|Family|War',\n",
       "        'Action|Comedy|Sci-Fi|Thriller', 'Comedy|Horror',\n",
       "        'Drama|Thriller|War', 'Comedy|Music', 'Action|Western',\n",
       "        'Action|Adventure|Family|Sci-Fi',\n",
       "        'Adventure|Biography|Drama|Thriller', 'Drama|Romance|War|Western',\n",
       "        'Action|Adventure|Comedy|Drama|Thriller', 'Drama|Music|Romance',\n",
       "        'Action|Adventure|Crime|Drama|Thriller',\n",
       "        'Crime|Horror|Mystery|Thriller', 'Adventure|Comedy|Family|Sport',\n",
       "        'Comedy|Drama|Fantasy', 'Comedy|Family|Sport',\n",
       "        'Action|Adventure|Drama|Family', 'Drama|Family|Sport',\n",
       "        'Action|Thriller|Western', 'Action|Drama|Fantasy|Horror|Thriller',\n",
       "        'Animation|Comedy|Family|Fantasy|Musical',\n",
       "        'Action|Crime|Drama|Mystery|Sci-Fi|Thriller',\n",
       "        'Adventure|Comedy|Crime|Drama', 'Drama|Mystery',\n",
       "        'Comedy|Fantasy|Horror|Thriller',\n",
       "        'Crime|Drama|Mystery|Sci-Fi|Thriller', 'Comedy|Crime|Musical',\n",
       "        'Comedy|Drama|Family|Music|Romance', 'Comedy|Horror|Romance',\n",
       "        'Comedy|Family|Fantasy|Sport',\n",
       "        'Animation|Comedy|Family|Mystery|Sci-Fi',\n",
       "        'Animation|Drama|Family|Fantasy|Musical|Romance',\n",
       "        'Comedy|Horror|Musical|Sci-Fi', 'Crime|Drama|Sport',\n",
       "        'Action|Adventure|Animation|Drama|Mystery|Sci-Fi|Thriller',\n",
       "        'Action|Adventure|Crime|Drama|Romance', 'Action|Comedy|Horror',\n",
       "        'Adventure|Horror|Thriller', 'Adventure|Fantasy|Mystery',\n",
       "        'Biography|Crime|Drama|History|Western',\n",
       "        'Action|Biography|Crime|Drama', 'Biography|Drama|Music|Romance',\n",
       "        'Biography|Crime|Drama|History|Music',\n",
       "        'Adventure|Animation|Comedy|Drama|Family|Musical',\n",
       "        'Comedy|Drama|Music', 'Drama|Romance|Thriller',\n",
       "        'Action|Fantasy|Horror|Thriller', 'Adventure|Biography',\n",
       "        'Action|Comedy|Family', 'Action|Horror|Romance',\n",
       "        'Action|Comedy|Crime|Music',\n",
       "        'Action|Drama|Fantasy|Mystery|Sci-Fi|Thriller',\n",
       "        'Action|Crime|Drama|History|Western', 'Comedy|Crime|Drama',\n",
       "        'Comedy|Family|Fantasy|Music|Romance',\n",
       "        'Adventure|Comedy|Crime|Music',\n",
       "        'Action|Adventure|Comedy|Sci-Fi|Thriller',\n",
       "        'Action|Crime|Drama|Western',\n",
       "        'Action|Adventure|Comedy|Family|Romance|Sci-Fi',\n",
       "        'Action|Fantasy|Romance|Sci-Fi', 'Comedy|Crime|Mystery|Romance',\n",
       "        'Adventure|Family', 'Comedy|Drama|Family|Romance',\n",
       "        'Action|Drama|Music|Romance',\n",
       "        'Adventure|Comedy|Family|Fantasy|Horror|Mystery',\n",
       "        'Action|Biography|Drama|History|Romance|Western',\n",
       "        'Biography|Drama|Family',\n",
       "        'Action|Adventure|Comedy|Crime|Family|Romance|Thriller',\n",
       "        'Drama|Romance|Sci-Fi', 'Comedy|Fantasy|Horror|Romance',\n",
       "        'Comedy|Family|Music', 'Action|Comedy|Music',\n",
       "        'Adventure|Comedy|Crime', 'Biography|Comedy|Drama|Sport',\n",
       "        'Fantasy|Horror|Thriller', 'Comedy|Drama|Romance|Thriller',\n",
       "        'Adventure|Comedy|Family|Romance',\n",
       "        'Adventure|Family|Fantasy|Musical',\n",
       "        'Biography|Crime|Drama|History|Thriller', 'Crime|Drama|History',\n",
       "        'Biography|Drama|Thriller|War',\n",
       "        'Drama|Music|Mystery|Romance|Thriller',\n",
       "        'Action|Adventure|Fantasy|Horror', 'Crime|Drama|Mystery|Romance',\n",
       "        'Action|Drama|Western', 'Comedy|War',\n",
       "        'Adventure|Comedy|Family|Fantasy|Music|Sci-Fi',\n",
       "        'Adventure|Family|Fantasy|Music|Musical',\n",
       "        'Action|Adventure|Animation|Comedy|Fantasy',\n",
       "        'Adventure|Comedy|Horror|Sci-Fi', 'Horror|Sci-Fi',\n",
       "        'Biography|Comedy|Drama|Family|Sport',\n",
       "        'Action|Crime|Drama|Thriller|Western',\n",
       "        'Drama|Fantasy|Romance|Thriller', 'Comedy|Mystery',\n",
       "        'Comedy|Drama|Musical|Romance|War',\n",
       "        'Drama|History|Music|Romance|War', 'Comedy|History',\n",
       "        'Animation|Comedy|Fantasy|Musical', 'Action|Comedy|Documentary',\n",
       "        'Adventure|Comedy|Drama|Family|Romance',\n",
       "        'Adventure|Comedy|Drama|Family|Mystery',\n",
       "        'Drama|Family|Music|Romance', 'Fantasy|Romance',\n",
       "        'Adventure|Animation|Family|Musical',\n",
       "        'Animation|Comedy|Drama|Family|Musical',\n",
       "        'Biography|Crime|Drama|History',\n",
       "        'Adventure|Comedy|Fantasy|Music|Sci-Fi',\n",
       "        'Action|Adventure|Drama|Mystery',\n",
       "        'Comedy|Crime|Family|Mystery|Romance|Thriller',\n",
       "        'Action|Adventure|Drama|Romance|Western',\n",
       "        'Adventure|Crime|Mystery|Sci-Fi|Thriller',\n",
       "        'Adventure|Biography|Drama',\n",
       "        'Adventure|Drama|Horror|Mystery|Thriller', 'Crime|Fantasy|Horror',\n",
       "        'Animation|Family|Fantasy|Mystery', 'Action|Comedy|Crime|Fantasy',\n",
       "        'Comedy|Family|Music|Musical',\n",
       "        'Drama|Mystery|Romance|Thriller|War', 'Action|Crime|Drama|Sport',\n",
       "        'Drama|Fantasy|Horror|Mystery', 'Comedy|Drama|Music|War',\n",
       "        'Comedy|Musical|Romance', 'Comedy|Crime|Drama|Mystery|Romance',\n",
       "        'Biography|Comedy|Drama|History|Music|Musical',\n",
       "        'Animation|Drama|Mystery|Sci-Fi|Thriller',\n",
       "        'Adventure|Comedy|Drama|Romance', 'Adventure|Animation|Fantasy',\n",
       "        'Comedy|Drama|Mystery|Romance|Thriller|War',\n",
       "        'Biography|Comedy|Musical', 'Crime|Drama|Western',\n",
       "        'Action|Adventure|Animation|Family|Sci-Fi|Thriller',\n",
       "        'Comedy|Family|Fantasy|Sci-Fi',\n",
       "        'Action|Comedy|Crime|Fantasy|Horror|Mystery|Sci-Fi|Thriller',\n",
       "        'Crime|Drama|Mystery', 'Adventure|Comedy|Romance',\n",
       "        'Family|Fantasy|Music', 'Crime|Drama|Music|Thriller',\n",
       "        'Action|Drama|Fantasy|Mystery|Thriller',\n",
       "        'Biography|Drama|History|Music', 'Biography|Drama|Family|Sport',\n",
       "        'Adventure|Fantasy|Mystery|Thriller',\n",
       "        'Biography|Drama|Romance|War',\n",
       "        'Action|Horror|Romance|Sci-Fi|Thriller',\n",
       "        'Action|Drama|History|Romance|War|Western',\n",
       "        'Action|Animation|Sci-Fi|Thriller',\n",
       "        'Action|Animation|Comedy|Crime|Family',\n",
       "        'Drama|Family|Music|Musical', 'Drama|Family|Musical|Romance',\n",
       "        'Comedy|Drama|Family|Fantasy|Sci-Fi', 'Comedy|Music|Romance',\n",
       "        'Adventure|Comedy|Family|Fantasy|Musical',\n",
       "        'Adventure|Crime|Drama|Romance', 'Biography|Crime|Drama|Thriller',\n",
       "        'Comedy|Mystery|Sci-Fi|Thriller', 'Drama|Fantasy|War',\n",
       "        'Action|Comedy|Crime|Family', 'Action|Comedy|Mystery',\n",
       "        'Comedy|Crime|Mystery', 'Action|Crime|Sci-Fi',\n",
       "        'Comedy|Horror|Sci-Fi', 'Drama|Family|Romance',\n",
       "        'Adventure|Comedy|Family|Music|Romance', 'Comedy|Horror|Thriller',\n",
       "        'Comedy|Family|Music|Romance',\n",
       "        'Adventure|Fantasy|Horror|Mystery|Thriller',\n",
       "        'Crime|Drama|Musical|Romance', 'Family|Music|Romance',\n",
       "        'Biography|Drama|History|Thriller|War',\n",
       "        'Adventure|Crime|Drama|Mystery|Western',\n",
       "        'Comedy|Crime|Drama|Thriller|War', 'Fantasy|Horror|Mystery',\n",
       "        'Action|Comedy|Drama|War', 'Comedy|Drama|Fantasy|Music|Romance',\n",
       "        'Adventure|Mystery|Thriller', 'Comedy|Drama|War',\n",
       "        'Comedy|Mystery|Romance', 'Biography|Crime|Drama|War',\n",
       "        'Biography|Comedy|Drama|War', 'Comedy|Crime|Family|Sci-Fi',\n",
       "        'Adventure|Family|Sci-Fi', 'Adventure|Comedy|Romance|Sci-Fi',\n",
       "        'Action|Adventure|Comedy|Family',\n",
       "        'Biography|Comedy|Crime|Drama|Romance', 'Crime|Drama|Musical',\n",
       "        'Comedy|Drama|Family|Sport', 'Animation|Comedy|Crime|Drama|Family',\n",
       "        'Action|Adventure|Comedy|Fantasy|Mystery',\n",
       "        'Action|Adventure|Drama|Thriller|War', 'Crime|Drama|Music|Romance',\n",
       "        'Adventure|Animation|Comedy|Crime',\n",
       "        'Adventure|Comedy|Fantasy|Sci-Fi',\n",
       "        'Comedy|Drama|Family|Fantasy|Musical', 'Comedy|Crime|Family',\n",
       "        'Adventure|Drama|Thriller|War', 'Comedy|Drama|Horror|Sci-Fi',\n",
       "        'Crime|Drama|Romance', 'Drama|Fantasy|Music|Romance',\n",
       "        'Family|Sci-Fi', 'Drama|History|Romance|Western',\n",
       "        'Action|Comedy|War', 'Adventure|Comedy|Music|Sci-Fi',\n",
       "        'Drama|Family|Musical', 'Action|Comedy|Drama|Music',\n",
       "        'Adventure|Comedy|Drama|Fantasy', 'Fantasy|Horror|Sci-Fi',\n",
       "        'Comedy|Romance|Thriller', 'Biography|Crime|Drama|Romance',\n",
       "        'Adventure|Comedy|Drama|Romance|Sci-Fi',\n",
       "        'Drama|Music|Mystery|Romance', 'Action|Crime|Drama',\n",
       "        'Adventure|Biography|Drama|War', 'Action|Comedy|Drama',\n",
       "        'Action|Drama|Romance|Thriller',\n",
       "        'Action|Biography|Drama|History|Romance|War',\n",
       "        'Horror|Musical|Sci-Fi', 'Biography|Drama|Family|Musical|Romance',\n",
       "        'Comedy|Crime|Drama|Romance|Thriller', 'Drama|Horror',\n",
       "        'Animation|Comedy|Drama|Romance', 'Comedy|Crime|Musical|Romance',\n",
       "        'Comedy|Crime|Musical|Mystery', 'Action|Animation|Sci-Fi',\n",
       "        'Drama|Romance|Sci-Fi|Thriller', 'Animation|Biography|Drama|War',\n",
       "        'Crime|Horror', 'Adventure|Biography|Drama|History',\n",
       "        'Action|Crime|Horror|Sci-Fi|Thriller', 'Western',\n",
       "        'Drama|Mystery|War', 'Comedy|Drama|Musical',\n",
       "        'Mystery|Romance|Thriller', 'Adventure|Comedy|Drama|Family',\n",
       "        'Musical|Romance', 'Documentary|Drama|War',\n",
       "        'Biography|Crime|Drama|Western', 'Comedy|Family|Fantasy|Musical',\n",
       "        'Crime|Drama|Musical|Romance|Thriller',\n",
       "        'Fantasy|Horror|Romance|Thriller', 'Comedy|Drama|Music|Musical',\n",
       "        'Action|Sport', 'Action|Comedy|Drama|Thriller',\n",
       "        'Drama|Horror|Mystery|Sci-Fi|Thriller', 'Comedy|Documentary',\n",
       "        'Adventure|Horror', 'Documentary',\n",
       "        'Biography|Crime|Drama|Romance|Thriller',\n",
       "        'Comedy|Crime|Drama|Mystery|Thriller',\n",
       "        'Biography|Crime|Drama|Mystery|Thriller',\n",
       "        'Crime|Horror|Music|Thriller', 'Crime|Thriller|War',\n",
       "        'Comedy|Drama|Romance|War', 'Drama|Musical', 'Fantasy|Thriller',\n",
       "        'Crime|Drama|Fantasy|Romance', 'Comedy|Horror|Mystery',\n",
       "        'Adventure|War|Western',\n",
       "        'Biography|Comedy|Musical|Romance|Western',\n",
       "        'Adventure|Comedy|Musical|Romance',\n",
       "        'Action|Adventure|Comedy|Musical', 'Comedy|Drama|Fantasy|Horror',\n",
       "        'Crime|Documentary|Drama', 'Biography|Comedy|Documentary',\n",
       "        'Comedy|Documentary|Music', 'Crime|Drama|History|Romance',\n",
       "        'Comedy|Drama|Horror', 'Drama|Family|Western',\n",
       "        'Comedy|Crime|Drama|Sci-Fi', 'Comedy|Family|Musical|Romance|Short',\n",
       "        'Comedy|Documentary|War', 'Action|Comedy|Horror|Sci-Fi',\n",
       "        'Animation|Comedy|Drama',\n",
       "        'Animation|Biography|Documentary|Drama|History|War',\n",
       "        'Documentary|War', 'Documentary|History',\n",
       "        'Biography|Documentary|History',\n",
       "        'Action|Adventure|Comedy|Drama|Music|Sci-Fi',\n",
       "        'Crime|Drama|Film-Noir|Mystery|Thriller',\n",
       "        'Comedy|Fantasy|Musical|Sci-Fi',\n",
       "        'Biography|Crime|Documentary|History|Thriller',\n",
       "        'Adventure|Comedy|Horror', 'Adventure|Comedy|Sport',\n",
       "        'Action|Drama|Horror|Thriller', 'Comedy|Horror|Musical',\n",
       "        'Biography|Crime|Documentary|History', 'Crime|Documentary|War',\n",
       "        'Documentary|Sport', 'Adventure|Biography|Documentary|Drama',\n",
       "        'Thriller', 'Comedy|Fantasy|Thriller', 'Drama|Fantasy|Sci-Fi',\n",
       "        'Action|Adventure|Drama|War',\n",
       "        'Action|Adventure|Animation|Comedy|Fantasy|Sci-Fi',\n",
       "        'Documentary|Drama|Sport', 'Documentary|History|Music',\n",
       "        'Adventure|Family|Romance',\n",
       "        'Adventure|Biography|Drama|Horror|Thriller',\n",
       "        'Biography|Documentary|Sport',\n",
       "        'Action|Biography|Documentary|Sport',\n",
       "        'Comedy|Fantasy|Horror|Musical', 'Biography|Documentary',\n",
       "        'Action|Fantasy|Horror|Mystery|Thriller',\n",
       "        'Animation|Comedy|Drama|Fantasy|Sci-Fi', 'Sci-Fi',\n",
       "        'Adventure|Horror|Sci-Fi', 'Crime|Documentary',\n",
       "        'Comedy|Crime|Drama|Horror|Thriller', 'Comedy|Documentary|Drama',\n",
       "        'Comedy|Crime|Horror'], dtype=object),\n",
       " 758)"
      ]
     },
     "execution_count": 48,
     "metadata": {},
     "output_type": "execute_result"
    }
   ],
   "source": [
    "dataset.genres.unique(), dataset.genres.nunique()"
   ]
  },
  {
   "cell_type": "code",
   "execution_count": 51,
   "id": "53edfe42",
   "metadata": {},
   "outputs": [
    {
     "data": {
      "text/html": [
       "<div>\n",
       "<style scoped>\n",
       "    .dataframe tbody tr th:only-of-type {\n",
       "        vertical-align: middle;\n",
       "    }\n",
       "\n",
       "    .dataframe tbody tr th {\n",
       "        vertical-align: top;\n",
       "    }\n",
       "\n",
       "    .dataframe thead th {\n",
       "        text-align: right;\n",
       "    }\n",
       "</style>\n",
       "<table border=\"1\" class=\"dataframe\">\n",
       "  <thead>\n",
       "    <tr style=\"text-align: right;\">\n",
       "      <th></th>\n",
       "      <th>color</th>\n",
       "      <th>num_critic_for_reviews</th>\n",
       "      <th>duration</th>\n",
       "      <th>director_facebook_likes</th>\n",
       "      <th>actor_3_facebook_likes</th>\n",
       "      <th>actor_1_facebook_likes</th>\n",
       "      <th>gross</th>\n",
       "      <th>genres</th>\n",
       "      <th>actor_1_name</th>\n",
       "      <th>movie_title</th>\n",
       "      <th>...</th>\n",
       "      <th>country</th>\n",
       "      <th>content_rating</th>\n",
       "      <th>budget</th>\n",
       "      <th>title_year</th>\n",
       "      <th>actor_2_facebook_likes</th>\n",
       "      <th>imdb_score</th>\n",
       "      <th>aspect_ratio</th>\n",
       "      <th>movie_facebook_likes</th>\n",
       "      <th>director_name_value_counts</th>\n",
       "      <th>actor_2_name_value_counts</th>\n",
       "    </tr>\n",
       "  </thead>\n",
       "  <tbody>\n",
       "    <tr>\n",
       "      <th>0</th>\n",
       "      <td>1</td>\n",
       "      <td>723.0</td>\n",
       "      <td>178.0</td>\n",
       "      <td>0.0</td>\n",
       "      <td>855.0</td>\n",
       "      <td>1000.0</td>\n",
       "      <td>760505847.0</td>\n",
       "      <td>Action|Adventure|Fantasy|Sci-Fi</td>\n",
       "      <td>CCH Pounder</td>\n",
       "      <td>Avatar</td>\n",
       "      <td>...</td>\n",
       "      <td>USA</td>\n",
       "      <td>PG-13</td>\n",
       "      <td>237000000.0</td>\n",
       "      <td>2009.0</td>\n",
       "      <td>936.0</td>\n",
       "      <td>7.9</td>\n",
       "      <td>1.78</td>\n",
       "      <td>33000</td>\n",
       "      <td>7</td>\n",
       "      <td>3</td>\n",
       "    </tr>\n",
       "    <tr>\n",
       "      <th>1</th>\n",
       "      <td>1</td>\n",
       "      <td>302.0</td>\n",
       "      <td>169.0</td>\n",
       "      <td>563.0</td>\n",
       "      <td>1000.0</td>\n",
       "      <td>40000.0</td>\n",
       "      <td>309404152.0</td>\n",
       "      <td>Action|Adventure|Fantasy</td>\n",
       "      <td>Johnny Depp</td>\n",
       "      <td>Pirates of the Caribbean: At World's End</td>\n",
       "      <td>...</td>\n",
       "      <td>USA</td>\n",
       "      <td>PG-13</td>\n",
       "      <td>300000000.0</td>\n",
       "      <td>2007.0</td>\n",
       "      <td>5000.0</td>\n",
       "      <td>7.1</td>\n",
       "      <td>2.35</td>\n",
       "      <td>0</td>\n",
       "      <td>7</td>\n",
       "      <td>7</td>\n",
       "    </tr>\n",
       "    <tr>\n",
       "      <th>2</th>\n",
       "      <td>1</td>\n",
       "      <td>602.0</td>\n",
       "      <td>148.0</td>\n",
       "      <td>0.0</td>\n",
       "      <td>161.0</td>\n",
       "      <td>11000.0</td>\n",
       "      <td>200074175.0</td>\n",
       "      <td>Action|Adventure|Thriller</td>\n",
       "      <td>Christoph Waltz</td>\n",
       "      <td>Spectre</td>\n",
       "      <td>...</td>\n",
       "      <td>UK</td>\n",
       "      <td>PG-13</td>\n",
       "      <td>245000000.0</td>\n",
       "      <td>2015.0</td>\n",
       "      <td>393.0</td>\n",
       "      <td>6.8</td>\n",
       "      <td>2.35</td>\n",
       "      <td>85000</td>\n",
       "      <td>8</td>\n",
       "      <td>2</td>\n",
       "    </tr>\n",
       "    <tr>\n",
       "      <th>3</th>\n",
       "      <td>1</td>\n",
       "      <td>813.0</td>\n",
       "      <td>164.0</td>\n",
       "      <td>22000.0</td>\n",
       "      <td>23000.0</td>\n",
       "      <td>27000.0</td>\n",
       "      <td>448130642.0</td>\n",
       "      <td>Action|Thriller</td>\n",
       "      <td>Tom Hardy</td>\n",
       "      <td>The Dark Knight Rises</td>\n",
       "      <td>...</td>\n",
       "      <td>USA</td>\n",
       "      <td>PG-13</td>\n",
       "      <td>250000000.0</td>\n",
       "      <td>2012.0</td>\n",
       "      <td>23000.0</td>\n",
       "      <td>8.5</td>\n",
       "      <td>2.35</td>\n",
       "      <td>164000</td>\n",
       "      <td>8</td>\n",
       "      <td>5</td>\n",
       "    </tr>\n",
       "    <tr>\n",
       "      <th>4</th>\n",
       "      <td>1</td>\n",
       "      <td>462.0</td>\n",
       "      <td>132.0</td>\n",
       "      <td>475.0</td>\n",
       "      <td>530.0</td>\n",
       "      <td>640.0</td>\n",
       "      <td>73058679.0</td>\n",
       "      <td>Action|Adventure|Sci-Fi</td>\n",
       "      <td>Daryl Sabara</td>\n",
       "      <td>John Carter</td>\n",
       "      <td>...</td>\n",
       "      <td>USA</td>\n",
       "      <td>PG-13</td>\n",
       "      <td>263700000.0</td>\n",
       "      <td>2012.0</td>\n",
       "      <td>632.0</td>\n",
       "      <td>6.6</td>\n",
       "      <td>2.35</td>\n",
       "      <td>24000</td>\n",
       "      <td>3</td>\n",
       "      <td>3</td>\n",
       "    </tr>\n",
       "  </tbody>\n",
       "</table>\n",
       "<p>5 rows × 28 columns</p>\n",
       "</div>"
      ],
      "text/plain": [
       "   color  num_critic_for_reviews  duration  director_facebook_likes  \\\n",
       "0      1                   723.0     178.0                      0.0   \n",
       "1      1                   302.0     169.0                    563.0   \n",
       "2      1                   602.0     148.0                      0.0   \n",
       "3      1                   813.0     164.0                  22000.0   \n",
       "4      1                   462.0     132.0                    475.0   \n",
       "\n",
       "   actor_3_facebook_likes  actor_1_facebook_likes        gross  \\\n",
       "0                   855.0                  1000.0  760505847.0   \n",
       "1                  1000.0                 40000.0  309404152.0   \n",
       "2                   161.0                 11000.0  200074175.0   \n",
       "3                 23000.0                 27000.0  448130642.0   \n",
       "4                   530.0                   640.0   73058679.0   \n",
       "\n",
       "                            genres     actor_1_name  \\\n",
       "0  Action|Adventure|Fantasy|Sci-Fi      CCH Pounder   \n",
       "1         Action|Adventure|Fantasy      Johnny Depp   \n",
       "2        Action|Adventure|Thriller  Christoph Waltz   \n",
       "3                  Action|Thriller        Tom Hardy   \n",
       "4          Action|Adventure|Sci-Fi     Daryl Sabara   \n",
       "\n",
       "                                 movie_title  ...  country  content_rating  \\\n",
       "0                                    Avatar   ...      USA           PG-13   \n",
       "1  Pirates of the Caribbean: At World's End   ...      USA           PG-13   \n",
       "2                                   Spectre   ...       UK           PG-13   \n",
       "3                     The Dark Knight Rises   ...      USA           PG-13   \n",
       "4                               John Carter   ...      USA           PG-13   \n",
       "\n",
       "        budget  title_year actor_2_facebook_likes imdb_score  aspect_ratio  \\\n",
       "0  237000000.0      2009.0                  936.0        7.9          1.78   \n",
       "1  300000000.0      2007.0                 5000.0        7.1          2.35   \n",
       "2  245000000.0      2015.0                  393.0        6.8          2.35   \n",
       "3  250000000.0      2012.0                23000.0        8.5          2.35   \n",
       "4  263700000.0      2012.0                  632.0        6.6          2.35   \n",
       "\n",
       "  movie_facebook_likes director_name_value_counts actor_2_name_value_counts  \n",
       "0                33000                          7                         3  \n",
       "1                    0                          7                         7  \n",
       "2                85000                          8                         2  \n",
       "3               164000                          8                         5  \n",
       "4                24000                          3                         3  \n",
       "\n",
       "[5 rows x 28 columns]"
      ]
     },
     "execution_count": 51,
     "metadata": {},
     "output_type": "execute_result"
    }
   ],
   "source": [
    "dataset.head()"
   ]
  },
  {
   "cell_type": "code",
   "execution_count": null,
   "id": "4c396238",
   "metadata": {},
   "outputs": [],
   "source": []
  }
 ],
 "metadata": {
  "kernelspec": {
   "display_name": "Python 3 (ipykernel)",
   "language": "python",
   "name": "python3"
  },
  "language_info": {
   "codemirror_mode": {
    "name": "ipython",
    "version": 3
   },
   "file_extension": ".py",
   "mimetype": "text/x-python",
   "name": "python",
   "nbconvert_exporter": "python",
   "pygments_lexer": "ipython3",
   "version": "3.11.3"
  }
 },
 "nbformat": 4,
 "nbformat_minor": 5
}
